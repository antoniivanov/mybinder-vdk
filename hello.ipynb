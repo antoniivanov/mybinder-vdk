{
	"metadata": {
		"kernelspec": {
			"name": "python3",
			"display_name": "Python 3 (ipykernel)",
			"language": "python"
		},
		"language_info": {
			"name": "python",
			"version": "3.7.12",
			"mimetype": "text/x-python",
			"codemirror_mode": {
				"name": "ipython",
				"version": 3
			},
			"pygments_lexer": "ipython3",
			"nbconvert_exporter": "python",
			"file_extension": ".py"
		}
	},
	"nbformat_minor": 5,
	"nbformat": 4,
	"cells": [{
		"cell_type": "code",
		"source": "!vdk create --cloud -n sample-job -t amld",
		"metadata": {},
		"execution_count": null,
		"outputs": [],
		"id": "d698db5f-8caa-47e5-a053-76fde7bc0ebc"
	}, {
		"cell_type": "code",
		"source": "!vdk run sample-job",
		"metadata": {
			"trusted": true
		},
		"execution_count": null,
		"outputs": [],
		"id": "c7868809"
	}, {
		"cell_type": "code",
		"source": "%config SqlMagic.autocommit=False # for engines that do not support autommit\n",
		"metadata": {
			"trusted": true
		},
		"execution_count": null,
		"outputs": [],
		"id": "7d923528-2fc2-4380-b273-9a9ab5a011e3"
	}, {
		"cell_type": "code",
		"source": "%load_ext sql",
		"metadata": {
			"trusted": true
		},
		"execution_count": null,
		"outputs": [],
		"id": "7dba0206-569b-47dc-8fd9-366a788f7947"
	}, {
		"cell_type": "code",
		"source": "%sql select * from mysql.default.hello_table",
		"metadata": {
			"trusted": true
		},
		"execution_count": null,
		"outputs": [],
		"id": "46ae2911-0928-4875-9b11-525dd4520276"
	}, {
		"cell_type": "code",
		"source": "import os\nprint(\"Open streamlit (in a new tab) at:\")\nprint(\"https://hub.gke2.mybinder.org/user/\" + os.environ.get(\"JUPYTERHUB_USER\") + \"/proxy/8501/\")\n",
		"metadata": {
			"trusted": true
		},
		"execution_count": null,
		"outputs": [],
		"id": "2b6dcc37-83ae-4a06-98bd-a8f0eb85918c"
	}, {
		"cell_type": "code",
		"source": "!streamlit run hello.py\n# Add \"/proxy/8501/\" to the URL to go to the Steramlit Web App \n# This will block the page until you click \"Interrupt the Kernel\"\n",
		"metadata": {
			"trusted": true
		},
		"execution_count": null,
		"outputs": [],
		"id": "37480495-a611-4646-ac89-0cf9e370cf67"
	}, {
		"cell_type": "code",
		"source": "",
		"metadata": {},
		"execution_count": null,
		"outputs": [],
		"id": "3def4649-e93f-4a44-9296-aae492833401"
	}]
}