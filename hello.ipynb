{
 "cells": [
  {
   "cell_type": "code",
   "execution_count": null,
   "id": "d698db5f-8caa-47e5-a053-76fde7bc0ebc",
   "metadata": {},
   "outputs": [],
   "source": [
    "!vdk create --cloud -n sample-job -t amld"
   ]
  },
  {
   "cell_type": "code",
   "execution_count": null,
   "id": "c7868809",
   "metadata": {},
   "outputs": [],
   "source": [
    "!vdk run sample-job"
   ]
  },
  {
   "cell_type": "code",
   "execution_count": null,
   "id": "7d923528-2fc2-4380-b273-9a9ab5a011e3",
   "metadata": {},
   "outputs": [],
   "source": [
    "%config SqlMagic.autocommit=False # for engines that do not support autommit\n"
   ]
  },
  {
   "cell_type": "code",
   "execution_count": null,
   "id": "7dba0206-569b-47dc-8fd9-366a788f7947",
   "metadata": {},
   "outputs": [],
   "source": [
    "%load_ext sql"
   ]
  },
  {
   "cell_type": "code",
   "execution_count": null,
   "id": "46ae2911-0928-4875-9b11-525dd4520276",
   "metadata": {},
   "outputs": [],
   "source": [
    "%sql select * from mysql.default.hello_table"
   ]
  },
  {
   "cell_type": "code",
   "execution_count": null,
   "id": "2b6dcc37-83ae-4a06-98bd-a8f0eb85918c",
   "metadata": {},
   "outputs": [],
   "source": [
    "import os\n",
    "print(\"Open streamlit (in a new tab) at (one of those):\")\n",
    "print(\"https://hub.gke2.mybinder.org/user/\" + os.environ.get(\"JUPYTERHUB_USER\") + \"/proxy/8501/\")\n",
    "print(\"https://notebooks.gesis.org/binder/jupyter/user/\" + os.environ.get(\"JUPYTERHUB_USER\") + \"/proxy/8501/\")\n"
   ]
  },
  {
   "cell_type": "code",
   "execution_count": null,
   "id": "37480495-a611-4646-ac89-0cf9e370cf67",
   "metadata": {},
   "outputs": [],
   "source": [
    "!streamlit run hello.py\n",
    "# Add \"/proxy/8501/\" to the URL to go to the Steramlit Web App \n",
    "# This will block the page until you click \"Interrupt the Kernel\"\n"
   ]
  },
  {
   "cell_type": "code",
   "execution_count": null,
   "id": "3def4649-e93f-4a44-9296-aae492833401",
   "metadata": {},
   "outputs": [],
   "source": []
  }
 ],
 "metadata": {
  "kernelspec": {
   "display_name": "Python 3 (ipykernel)",
   "language": "python",
   "name": "python3"
  },
  "language_info": {
   "codemirror_mode": {
    "name": "ipython",
    "version": 3
   },
   "file_extension": ".py",
   "mimetype": "text/x-python",
   "name": "python",
   "nbconvert_exporter": "python",
   "pygments_lexer": "ipython3",
   "version": "3.7.12"
  }
 },
 "nbformat": 4,
 "nbformat_minor": 5
}
