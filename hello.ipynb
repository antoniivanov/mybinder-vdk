{
 "cells": [
  {
   "cell_type": "code",
   "execution_count": 1,
   "id": "d698db5f-8caa-47e5-a053-76fde7bc0ebc",
   "metadata": {},
   "outputs": [
    {
     "name": "stdout",
     "output_type": "stream",
     "text": [
      "\u001b[33mwarning: \u001b[0mData Job with name sample-job already exists in cloud runtime.\n",
      "Data Job with name sample-job created and registered in cloud runtime by Control Service.\n"
     ]
    }
   ],
   "source": [
    "!vdk create --cloud -n sample-job -t amld"
   ]
  },
  {
   "cell_type": "code",
   "execution_count": 2,
   "id": "c7868809",
   "metadata": {},
   "outputs": [
    {
     "name": "stdout",
     "output_type": "stream",
     "text": [
      "Versatile Data Kit (VDK)\n",
      "Version: 0.1.482795663\n",
      "Build details: RELEASE_VERSION=0.1.482795663, BUILD_DATE=Wed Mar  2 15:34:39 UTC 2022, BUILD_MACHINE_INFO=Linux runner-opyxurxq-project-28359933-concurrent-0j2wl9 5.4.129-62.227.amzn2.x86_64 #1 SMP Wed Jul 7 00:08:43 UTC 2021 x86_64 GNU/Linux, GITLAB_CI_JOB_ID=2154317510, GIT_COMMIT_SHA=eda92d2bf41c93506c9b46499133516c9a336d09, GIT_BRANCH=main\n",
      "Python version: 3.7.12 64bit (/srv/conda/envs/notebook/bin/python3.7)\n",
      "\n",
      "Installed plugins:\n",
      "vdk-ingest-file (from package vdk-ingest-file, version 0.1.461192871)\n",
      "vdk-sqlite (from package vdk-sqlite, version 0.1.477708478)\n",
      "vdk-control-service-properties (from package vdk-plugin-control-cli, version 0.1.477708478)\n",
      "vdk-execution-skip (from package vdk-plugin-control-cli, version 0.1.477708478)\n",
      "vdk-plugin-control-cli (from package vdk-plugin-control-cli, version 0.1.477708478)\n",
      "vdk-trino (from package vdk-trino, version 0.2.477708478)\n",
      "vdk-ingest-http (from package vdk-ingest-http, version 0.2.477708478)\n",
      "vdk-server (from package vdk-server, version 0.1.477708478)\n",
      "--------------------------------------------------------------------------------\n",
      "Run job with directory /home/jovyan/sample-job\n",
      "2022-03-02 16:30:45,032 [VDK] sample-job [INFO ] vdk.plugin.control_cli_plugin. properties_plugin.py:22   initialize_job  [id:f80479c5-cb1c-4ac3-9e72-48bdb0900866-1646238644-493ee]- Initialize Control Service based Properties client implementation.\n",
      "2022-03-02 16:30:45,033 [VDK] sample-job [INFO ] vdk.plugin.control_cli_plugin.    execution_skip.py:105  _skip_job_if_nec[id:f80479c5-cb1c-4ac3-9e72-48bdb0900866-1646238644-493ee]- Checking if job should be skipped:\n",
      "2022-03-02 16:30:45,033 [VDK] sample-job [INFO ] vdk.plugin.control_cli_plugin.    execution_skip.py:107  _skip_job_if_nec[id:f80479c5-cb1c-4ac3-9e72-48bdb0900866-1646238644-493ee]- Job : sample-job, Team : amld, Log config: LOCAL, execution_id: f80479c5-cb1c-4ac3-9e72-48bdb0900866-1646238644\n",
      "2022-03-02 16:30:45,033 [VDK] sample-job [INFO ] root                              execution_skip.py:111  _skip_job_if_nec[id:f80479c5-cb1c-4ac3-9e72-48bdb0900866-1646238644-493ee]- Local execution, skipping parallel execution check.\n",
      "2022-03-02 16:30:46,274 [VDK] sample-job [INFO ] vdk.plugin.trino.trino_connect    managed_cursor.py:123  execute         [id:f80479c5-cb1c-4ac3-9e72-48bdb0900866-1646238644-493ee]- Executing query:\n",
      "-- job_name: sample-job\n",
      "-- op_id: f80479c5-cb1c-4ac3-9e72-48bdb0900866-1646238644\n",
      "create table if not exists hello_table (id varchar)\n",
      "\n",
      "2022-03-02 16:30:46,810 [VDK] sample-job [INFO ] vdk.plugin.trino.trino_connect    managed_cursor.py:126  execute         [id:f80479c5-cb1c-4ac3-9e72-48bdb0900866-1646238644-493ee]- Executing query SUCCEEDED.\n",
      "2022-03-02 16:30:46,810 [VDK] sample-job [INFO ] vdk.plugin.trino.trino_connect    managed_cursor.py:147  fetchall        [id:f80479c5-cb1c-4ac3-9e72-48bdb0900866-1646238644-493ee]- Fetching all results from query ...\n",
      "2022-03-02 16:30:47,456 [VDK] sample-job [INFO ] vdk.plugin.trino.trino_connect    managed_cursor.py:150  fetchall        [id:f80479c5-cb1c-4ac3-9e72-48bdb0900866-1646238644-493ee]- Fetching all results from query SUCCEEDED.\n",
      "2022-03-02 16:30:47,456 [VDK] sample-job [INFO ] vdk.plugin.trino.trino_connect    managed_cursor.py:157  close           [id:f80479c5-cb1c-4ac3-9e72-48bdb0900866-1646238644-493ee]- Closing DB cursor ...\n",
      "2022-03-02 16:30:47,456 [VDK] sample-job [INFO ] vdk.plugin.trino.trino_connect    managed_cursor.py:159  close           [id:f80479c5-cb1c-4ac3-9e72-48bdb0900866-1646238644-493ee]- Closing DB cursor SUCCEEDED.\n",
      "2022-03-02 16:30:47,458 [VDK] sample-job [INFO ] vdk.internal.builtin_plugins.r   file_based_step.py:82   run_python_step [id:f80479c5-cb1c-4ac3-9e72-48bdb0900866-1646238644-493ee]- Entering 10_hello.py#run(...) ...\n",
      "2022-03-02 16:30:47,459 [VDK] sample-job [INFO ] vdk.plugin.trino.trino_connect    managed_cursor.py:123  execute         [id:f80479c5-cb1c-4ac3-9e72-48bdb0900866-1646238644-493ee]- Executing query:\n",
      "-- job_name: sample-job\n",
      "-- op_id: f80479c5-cb1c-4ac3-9e72-48bdb0900866-1646238644\n",
      " select 1 -- Testing if connection is alive.\n",
      "2022-03-02 16:30:47,845 [VDK] sample-job [INFO ] vdk.plugin.trino.trino_connect    managed_cursor.py:126  execute         [id:f80479c5-cb1c-4ac3-9e72-48bdb0900866-1646238644-493ee]- Executing query SUCCEEDED.\n",
      "2022-03-02 16:30:47,845 [VDK] sample-job [INFO ] vdk.plugin.trino.trino_connect    managed_cursor.py:123  execute         [id:f80479c5-cb1c-4ac3-9e72-48bdb0900866-1646238644-493ee]- Executing query:\n",
      "-- job_name: sample-job\n",
      "-- op_id: f80479c5-cb1c-4ac3-9e72-48bdb0900866-1646238644\n",
      "select 1\n",
      "\n",
      "2022-03-02 16:30:48,232 [VDK] sample-job [INFO ] vdk.plugin.trino.trino_connect    managed_cursor.py:126  execute         [id:f80479c5-cb1c-4ac3-9e72-48bdb0900866-1646238644-493ee]- Executing query SUCCEEDED.\n",
      "2022-03-02 16:30:48,232 [VDK] sample-job [INFO ] vdk.plugin.trino.trino_connect    managed_cursor.py:147  fetchall        [id:f80479c5-cb1c-4ac3-9e72-48bdb0900866-1646238644-493ee]- Fetching all results from query ...\n",
      "2022-03-02 16:30:49,315 [VDK] sample-job [INFO ] vdk.plugin.trino.trino_connect    managed_cursor.py:150  fetchall        [id:f80479c5-cb1c-4ac3-9e72-48bdb0900866-1646238644-493ee]- Fetching all results from query SUCCEEDED.\n",
      "2022-03-02 16:30:49,315 [VDK] sample-job [INFO ] vdk.plugin.trino.trino_connect    managed_cursor.py:157  close           [id:f80479c5-cb1c-4ac3-9e72-48bdb0900866-1646238644-493ee]- Closing DB cursor ...\n",
      "2022-03-02 16:30:49,315 [VDK] sample-job [INFO ] vdk.plugin.trino.trino_connect    managed_cursor.py:159  close           [id:f80479c5-cb1c-4ac3-9e72-48bdb0900866-1646238644-493ee]- Closing DB cursor SUCCEEDED.\n",
      "[[1]]\n",
      "2022-03-02 16:30:49,316 [VDK] sample-job [INFO ] vdk.internal.builtin_plugins.i   ingester_router.py:71   send_object_for_[id:f80479c5-cb1c-4ac3-9e72-48bdb0900866-1646238644-493ee]- Sending object for ingestion with method: trino and target: None\n",
      "2022-03-02 16:30:49,319 [VDK] sample-job [INFO ] vdk.internal.builtin_plugins.i   ingester_router.py:71   send_object_for_[id:f80479c5-cb1c-4ac3-9e72-48bdb0900866-1646238644-493ee]- Sending object for ingestion with method: trino and target: None\n",
      "2022-03-02 16:30:49,319 [VDK] sample-job [INFO ] vdk.internal.builtin_plugins.i   ingester_router.py:71   send_object_for_[id:f80479c5-cb1c-4ac3-9e72-48bdb0900866-1646238644-493ee]- Sending object for ingestion with method: trino and target: None\n",
      "2022-03-02 16:30:49,319 [VDK] sample-job [INFO ] vdk.internal.builtin_plugins.r   file_based_step.py:88   run_python_step [id:f80479c5-cb1c-4ac3-9e72-48bdb0900866-1646238644-493ee]- Exiting  10_hello.py#run(...) SUCCESS\n",
      "2022-03-02 16:30:51,320 [VDK] sample-job [INFO ] vdk.plugin.trino.ingest_to_tri   ingest_to_trino.py:54   ingest_payload  [id:f80479c5-cb1c-4ac3-9e72-48bdb0900866-1646238644-493ee]- Ingesting payloads to table: hello_table in Trino database; collection_id: sample-job|f80479c5-cb1c-4ac3-9e72-48bdb0900866-1646238644\n",
      "2022-03-02 16:30:51,321 [VDK] sample-job [INFO ] vdk.plugin.trino.trino_connect    managed_cursor.py:123  execute         [id:f80479c5-cb1c-4ac3-9e72-48bdb0900866-1646238644-493ee]- Executing query:\n",
      "-- job_name: sample-job\n",
      "-- op_id: f80479c5-cb1c-4ac3-9e72-48bdb0900866-1646238644\n",
      " select 1 -- Testing if connection is alive.\n",
      "2022-03-02 16:30:51,708 [VDK] sample-job [INFO ] vdk.plugin.trino.trino_connect    managed_cursor.py:126  execute         [id:f80479c5-cb1c-4ac3-9e72-48bdb0900866-1646238644-493ee]- Executing query SUCCEEDED.\n",
      "2022-03-02 16:30:51,709 [VDK] sample-job [INFO ] vdk.plugin.trino.trino_connect    managed_cursor.py:123  execute         [id:f80479c5-cb1c-4ac3-9e72-48bdb0900866-1646238644-493ee]- Executing query:\n",
      "-- job_name: sample-job\n",
      "-- op_id: f80479c5-cb1c-4ac3-9e72-48bdb0900866-1646238644\n",
      "SHOW COLUMNS FROM hello_table\n",
      "2022-03-02 16:30:52,096 [VDK] sample-job [INFO ] vdk.plugin.trino.trino_connect    managed_cursor.py:126  execute         [id:f80479c5-cb1c-4ac3-9e72-48bdb0900866-1646238644-493ee]- Executing query SUCCEEDED.\n",
      "2022-03-02 16:30:52,097 [VDK] sample-job [INFO ] vdk.plugin.trino.trino_connect    managed_cursor.py:147  fetchall        [id:f80479c5-cb1c-4ac3-9e72-48bdb0900866-1646238644-493ee]- Fetching all results from query ...\n",
      "2022-03-02 16:30:53,108 [VDK] sample-job [INFO ] vdk.plugin.trino.trino_connect    managed_cursor.py:150  fetchall        [id:f80479c5-cb1c-4ac3-9e72-48bdb0900866-1646238644-493ee]- Fetching all results from query SUCCEEDED.\n",
      "2022-03-02 16:30:53,109 [VDK] sample-job [INFO ] vdk.plugin.trino.trino_connect    managed_cursor.py:123  execute         [id:f80479c5-cb1c-4ac3-9e72-48bdb0900866-1646238644-493ee]- Executing query:\n",
      "-- job_name: sample-job\n",
      "-- op_id: f80479c5-cb1c-4ac3-9e72-48bdb0900866-1646238644\n",
      "INSERT INTO hello_table (id) VALUES (?), (?), (?)\n",
      "2022-03-02 16:30:55,354 [VDK] sample-job [INFO ] vdk.plugin.trino.trino_connect    managed_cursor.py:126  execute         [id:f80479c5-cb1c-4ac3-9e72-48bdb0900866-1646238644-493ee]- Executing query SUCCEEDED.\n",
      "2022-03-02 16:30:55,354 [VDK] sample-job [INFO ] vdk.plugin.trino.trino_connect    managed_cursor.py:147  fetchall        [id:f80479c5-cb1c-4ac3-9e72-48bdb0900866-1646238644-493ee]- Fetching all results from query ...\n",
      "2022-03-02 16:30:56,266 [VDK] sample-job [INFO ] vdk.plugin.trino.trino_connect    managed_cursor.py:150  fetchall        [id:f80479c5-cb1c-4ac3-9e72-48bdb0900866-1646238644-493ee]- Fetching all results from query SUCCEEDED.\n",
      "2022-03-02 16:30:56,267 [VDK] sample-job [INFO ] vdk.internal.builtin_plugins.i     ingester_base.py:542  close_now       [id:f80479c5-cb1c-4ac3-9e72-48bdb0900866-1646238644-493ee]- Ingester statistics: \n",
      "\t\tSuccessful uploads:1\n",
      "\t\tFailed uploads:0\n",
      "\t\tingesting plugin errors:defaultdict(<class 'vdk.internal.builtin_plugins.ingestion.ingester_utils.AtomicCounter'>, {})\n",
      "\t\t\n",
      "2022-03-02 16:30:56,267 [VDK] sample-job [INFO ] vdk.internal.builtin_plugins.r           cli_run.py:65   create_and_run_d[id:f80479c5-cb1c-4ac3-9e72-48bdb0900866-1646238644-493ee]- Data Job execution summary: {\n",
      "  \"data_job_name\": \"sample-job\",\n",
      "  \"execution_id\": \"f80479c5-cb1c-4ac3-9e72-48bdb0900866-1646238644\",\n",
      "  \"start_time\": \"2022-03-02T16:30:45.033488\",\n",
      "  \"end_time\": \"2022-03-02T16:30:49.319986\",\n",
      "  \"status\": \"success\",\n",
      "  \"steps_list\": [\n",
      "    {\n",
      "      \"name\": \"05_hello_table.sql\",\n",
      "      \"type\": \"sql\",\n",
      "      \"start_time\": \"2022-03-02T16:30:45.033533\",\n",
      "      \"end_time\": \"2022-03-02T16:30:47.456999\",\n",
      "      \"status\": \"success\",\n",
      "      \"details\": null,\n",
      "      \"exception\": null,\n",
      "      \"blamee\": null\n",
      "    },\n",
      "    {\n",
      "      \"name\": \"10_hello.py\",\n",
      "      \"type\": \"python\",\n",
      "      \"start_time\": \"2022-03-02T16:30:47.457208\",\n",
      "      \"end_time\": \"2022-03-02T16:30:49.319886\",\n",
      "      \"status\": \"success\",\n",
      "      \"details\": null,\n",
      "      \"exception\": null,\n",
      "      \"blamee\": null\n",
      "    }\n",
      "  ],\n",
      "  \"exception\": null\n",
      "}\n"
     ]
    }
   ],
   "source": [
    "!vdk run sample-job"
   ]
  },
  {
   "cell_type": "code",
   "execution_count": 3,
   "id": "7d923528-2fc2-4380-b273-9a9ab5a011e3",
   "metadata": {},
   "outputs": [],
   "source": [
    "%config SqlMagic.autocommit=False # for engines that do not support autommit\n"
   ]
  },
  {
   "cell_type": "code",
   "execution_count": 4,
   "id": "7dba0206-569b-47dc-8fd9-366a788f7947",
   "metadata": {},
   "outputs": [],
   "source": [
    "%load_ext sql"
   ]
  },
  {
   "cell_type": "code",
   "execution_count": 5,
   "id": "46ae2911-0928-4875-9b11-525dd4520276",
   "metadata": {},
   "outputs": [
    {
     "name": "stderr",
     "output_type": "stream",
     "text": [
      "/srv/conda/envs/notebook/lib/python3.7/site-packages/trino/sqlalchemy/dialect.py:275: SAWarning: Dialect trino:rest will not make use of SQL compilation caching as it does not set the 'supports_statement_cache' attribute to ``True``.  This can have significant performance implications including some performance degradations in comparison to prior SQLAlchemy versions.  Dialect maintainers should seek to set this attribute to True after appropriate development and testing for SQLAlchemy 1.4 caching support.   Alternatively, this attribute may be set to False which will disable this warning. (Background on this error at: https://sqlalche.me/e/14/cprf)\n",
      "  res = connection.execute(sql.text(query))\n"
     ]
    },
    {
     "name": "stdout",
     "output_type": "stream",
     "text": [
      "Done.\n"
     ]
    },
    {
     "data": {
      "text/html": [
       "<table>\n",
       "    <tr>\n",
       "        <th>id</th>\n",
       "    </tr>\n",
       "    <tr>\n",
       "        <td>Hi</td>\n",
       "    </tr>\n",
       "    <tr>\n",
       "        <td>Hello</td>\n",
       "    </tr>\n",
       "    <tr>\n",
       "        <td>Hola</td>\n",
       "    </tr>\n",
       "    <tr>\n",
       "        <td>Hi</td>\n",
       "    </tr>\n",
       "    <tr>\n",
       "        <td>Hello</td>\n",
       "    </tr>\n",
       "    <tr>\n",
       "        <td>Hola</td>\n",
       "    </tr>\n",
       "    <tr>\n",
       "        <td>Hi</td>\n",
       "    </tr>\n",
       "    <tr>\n",
       "        <td>Hello</td>\n",
       "    </tr>\n",
       "    <tr>\n",
       "        <td>Hola</td>\n",
       "    </tr>\n",
       "    <tr>\n",
       "        <td>Hi</td>\n",
       "    </tr>\n",
       "    <tr>\n",
       "        <td>Hello</td>\n",
       "    </tr>\n",
       "    <tr>\n",
       "        <td>Hola</td>\n",
       "    </tr>\n",
       "    <tr>\n",
       "        <td>Hi</td>\n",
       "    </tr>\n",
       "    <tr>\n",
       "        <td>Hello</td>\n",
       "    </tr>\n",
       "    <tr>\n",
       "        <td>Hola</td>\n",
       "    </tr>\n",
       "    <tr>\n",
       "        <td>Hi</td>\n",
       "    </tr>\n",
       "    <tr>\n",
       "        <td>Hello</td>\n",
       "    </tr>\n",
       "    <tr>\n",
       "        <td>Hola</td>\n",
       "    </tr>\n",
       "    <tr>\n",
       "        <td>HiHiHi</td>\n",
       "    </tr>\n",
       "    <tr>\n",
       "        <td>HiHiHi</td>\n",
       "    </tr>\n",
       "    <tr>\n",
       "        <td>Hi</td>\n",
       "    </tr>\n",
       "    <tr>\n",
       "        <td>Hello</td>\n",
       "    </tr>\n",
       "    <tr>\n",
       "        <td>Hola</td>\n",
       "    </tr>\n",
       "</table>"
      ],
      "text/plain": [
       "[('Hi',),\n",
       " ('Hello',),\n",
       " ('Hola',),\n",
       " ('Hi',),\n",
       " ('Hello',),\n",
       " ('Hola',),\n",
       " ('Hi',),\n",
       " ('Hello',),\n",
       " ('Hola',),\n",
       " ('Hi',),\n",
       " ('Hello',),\n",
       " ('Hola',),\n",
       " ('Hi',),\n",
       " ('Hello',),\n",
       " ('Hola',),\n",
       " ('Hi',),\n",
       " ('Hello',),\n",
       " ('Hola',),\n",
       " ('HiHiHi',),\n",
       " ('HiHiHi',),\n",
       " ('Hi',),\n",
       " ('Hello',),\n",
       " ('Hola',)]"
      ]
     },
     "execution_count": 5,
     "metadata": {},
     "output_type": "execute_result"
    }
   ],
   "source": [
    "%sql select * from mysql.default.hello_table"
   ]
  },
  {
   "cell_type": "code",
   "execution_count": 8,
   "id": "2b6dcc37-83ae-4a06-98bd-a8f0eb85918c",
   "metadata": {},
   "outputs": [
    {
     "name": "stdout",
     "output_type": "stream",
     "text": [
      "Open streamlit (in a new tab) at (one of those):\n",
      "https://hub.gke2.mybinder.org/user/tozka-mybinder-vdk-tojrlmx8/proxy/8501/\n",
      "https://notebooks.gesis.org/binder/jupyter/user/tozka-mybinder-vdk-tojrlmx8/proxy/8501/\n"
     ]
    }
   ],
   "source": [
    "import os\n",
    "print(\"Open streamlit (in a new tab) at (one of those):\")\n",
    "print(\"https://hub.gke2.mybinder.org/user/\" + os.environ.get(\"JUPYTERHUB_USER\") + \"/proxy/8501/\")\n",
    "print(\"https://notebooks.gesis.org/binder/jupyter/user/\" + os.environ.get(\"JUPYTERHUB_USER\") + \"/proxy/8501/\")\n",
    "\n"
   ]
  },
  {
   "cell_type": "code",
   "execution_count": null,
   "id": "37480495-a611-4646-ac89-0cf9e370cf67",
   "metadata": {},
   "outputs": [
    {
     "name": "stdout",
     "output_type": "stream",
     "text": [
      "2022-03-02 16:31:46.810 Trying to detect encoding from a tiny portion of (13) byte(s).\n",
      "2022-03-02 16:31:46.811 ascii passed initial chaos probing. Mean measured chaos is 0.000000 %\n",
      "2022-03-02 16:31:46.812 ascii is most likely the one. Stopping the process.\n",
      "\u001b[0m\n",
      "\u001b[34m\u001b[1m  You can now view your Streamlit app in your browser.\u001b[0m\n",
      "\u001b[0m\n",
      "\u001b[34m  Network URL: \u001b[0m\u001b[1mhttp://10.244.95.211:8501\u001b[0m\n",
      "\u001b[34m  External URL: \u001b[0m\u001b[1mhttp://194.95.75.12:8501\u001b[0m\n",
      "\u001b[0m\n"
     ]
    }
   ],
   "source": [
    "!streamlit run hello.py\n",
    "# Add \"/proxy/8501/\" to the URL to go to the Steramlit Web App \n",
    "# This will block the page until you click \"Interrupt the Kernel\"\n"
   ]
  },
  {
   "cell_type": "code",
   "execution_count": null,
   "id": "3def4649-e93f-4a44-9296-aae492833401",
   "metadata": {},
   "outputs": [],
   "source": []
  }
 ],
 "metadata": {
  "kernelspec": {
   "display_name": "Python 3 (ipykernel)",
   "language": "python",
   "name": "python3"
  },
  "language_info": {
   "codemirror_mode": {
    "name": "ipython",
    "version": 3
   },
   "file_extension": ".py",
   "mimetype": "text/x-python",
   "name": "python",
   "nbconvert_exporter": "python",
   "pygments_lexer": "ipython3",
   "version": "3.7.12"
  }
 },
 "nbformat": 4,
 "nbformat_minor": 5
}
